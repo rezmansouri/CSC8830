{
 "cells": [
  {
   "cell_type": "markdown",
   "metadata": {},
   "source": [
    "<h1> Assignment 4 - Computer Vision (CSc8830) </h1>\n",
    "<h3> Instructor: Dr. Ashwin Ashok - Spring 2024 </h3>\n",
    "<h3> Student name: Reza Mansouri </h3>\n",
    "<h4> Repository address: https://github.com/rezmansouri/csc8830/tree/main/Assignment%204"
   ]
  },
  {
   "cell_type": "markdown",
   "metadata": {},
   "source": []
  }
 ],
 "metadata": {
  "language_info": {
   "name": "python"
  }
 },
 "nbformat": 4,
 "nbformat_minor": 2
}
